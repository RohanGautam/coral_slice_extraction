{
 "cells": [
  {
   "cell_type": "code",
   "execution_count": 22,
   "id": "b2b40b71-5d3b-42e5-8a1e-d1539c109a9f",
   "metadata": {},
   "outputs": [],
   "source": [
    "import matplotlib.pyplot as plt\n",
    "import pandas as pd\n",
    "import open3d as o3d\n",
    "import numpy as np\n",
    "import copy\n",
    "from typing import Tuple\n",
    "from tqdm.auto import tqdm"
   ]
  },
  {
   "cell_type": "code",
   "execution_count": 21,
   "id": "ed557c7f",
   "metadata": {},
   "outputs": [
    {
     "name": "stdout",
     "output_type": "stream",
     "text": [
      "0.18.0\n"
     ]
    }
   ],
   "source": [
    "print(o3d.__version__)"
   ]
  },
  {
   "cell_type": "code",
   "execution_count": 5,
   "id": "3e345899",
   "metadata": {},
   "outputs": [],
   "source": [
    "MODEL_NAME = \"PARAF1_SfM_10Jan24\"\n",
    "MODEL_PATH = f\"./data/{MODEL_NAME}.ply\""
   ]
  },
  {
   "cell_type": "code",
   "execution_count": 16,
   "id": "da8b866f",
   "metadata": {},
   "outputs": [],
   "source": [
    "point_cloud = o3d.io.read_point_cloud(MODEL_PATH)"
   ]
  },
  {
   "cell_type": "code",
   "execution_count": 7,
   "id": "11a7c801",
   "metadata": {},
   "outputs": [
    {
     "data": {
      "text/plain": [
       "TriangleMesh with 762 points and 1520 triangles."
      ]
     },
     "execution_count": 7,
     "metadata": {},
     "output_type": "execute_result"
    }
   ],
   "source": [
    "# center = point_cloud.get_center()  #run this line if you want the center to be the geometric center of the model\n",
    "center = [0.115773, -0.109477, 0.173592]\n",
    "\n",
    "center_sphere = o3d.geometry.TriangleMesh.create_sphere(\n",
    "    radius=0.01, create_uv_map=True\n",
    ").paint_uniform_color([0, 1, 0])\n",
    "center_sphere.translate(center)"
   ]
  },
  {
   "cell_type": "code",
   "execution_count": 8,
   "id": "4af727c8",
   "metadata": {},
   "outputs": [],
   "source": [
    "def get_dimensions(point_cloud: o3d.geometry.PointCloud) -> Tuple[int, int, int]:\n",
    "    \"\"\"returns (width, length, height) of the  3d model\"\"\"\n",
    "    # use the axis aligned bounding box to calculate width, len and height.\n",
    "    bounding_box = point_cloud.get_axis_aligned_bounding_box()\n",
    "    bb_pts = np.asarray(bounding_box.get_box_points())\n",
    "    b_x = list(set(p[0] for p in bb_pts))\n",
    "    b_y = list(set(p[1] for p in bb_pts))\n",
    "    b_z = list(set(p[2] for p in bb_pts))\n",
    "\n",
    "    # calculate width, length, height to set 3d plot's aspect ratio.\n",
    "    w = abs(b_x[0] - b_x[1])\n",
    "    l = abs(b_y[0] - b_y[1])\n",
    "    h = abs(b_z[0] - b_z[1])\n",
    "\n",
    "    return (w, l, h)"
   ]
  },
  {
   "cell_type": "markdown",
   "id": "05b84290",
   "metadata": {},
   "source": [
    "# Extracting horizontal profiles\n"
   ]
  },
  {
   "cell_type": "code",
   "execution_count": 9,
   "id": "cb7464ed",
   "metadata": {},
   "outputs": [],
   "source": [
    "def get_point_theta(x, y, hyp=1, theta_rad=100):\n",
    "    \"\"\"given a point, this function calulates the point at an angle `theta`(in radians) and a distance `hyp` away from the point.\n",
    "\n",
    "    In a sense, they are opposite ends of the hypotenuse of a right angled triangle with an angle `theta`.\"\"\"\n",
    "    x_n = round((x + hyp * np.cos(np.radians(theta_rad))), ndigits=2)\n",
    "    y_n = round((y + hyp * np.sin(np.radians(theta_rad))), ndigits=2)\n",
    "    return (x_n, y_n)"
   ]
  },
  {
   "cell_type": "code",
   "execution_count": 10,
   "id": "d2309cc5",
   "metadata": {},
   "outputs": [
    {
     "name": "stdout",
     "output_type": "stream",
     "text": [
      "OrientedBoundingBox: center: (1.61789, -0.104739, 0.141591), extent: 3.00423, 0.009477, 0.846769)\n"
     ]
    }
   ],
   "source": [
    "w, l, h = get_dimensions(point_cloud)\n",
    "# xc,yc,zc = point_cloud.get_center()\n",
    "# xc,yc,zc = [-0.067755, -0.390165, 0.185]\n",
    "xc, yc, zc = [0.115773, -0.109477, 0.173592]\n",
    "\n",
    "\n",
    "# make slice from which we sample the points\n",
    "\n",
    "bb = point_cloud.get_axis_aligned_bounding_box()\n",
    "z_min, z_max = bb.min_bound[-1], bb.max_bound[-1]\n",
    "\n",
    "\n",
    "# might need to tweak hyp so that it extends full len of the point cloud\n",
    "x_new, y_new = get_point_theta(xc, yc, hyp=3, theta_rad=np.radians(5))\n",
    "# hyp controls the length of slice, theta controls the thickness of the slice\n",
    "# one common error: object is not in the scene: slice box is too small to be seen in the scene\n",
    "# other one relates to the service port display - kernel crashing, just restart VScode\n",
    "\n",
    "bb_slice = o3d.geometry.AxisAlignedBoundingBox(\n",
    "    np.array([xc, yc, z_min]),\n",
    "    np.array([x_new, y_new, z_max]),\n",
    ")\n",
    "bb_slice = o3d.geometry.OrientedBoundingBox.create_from_axis_aligned_bounding_box(\n",
    "    bb_slice\n",
    ")\n",
    "bb_slice.color = (1, 0, 0)\n",
    "\n",
    "print(bb_slice)\n",
    "# o3d.visualization.draw([point_cloud, bb, bb_slice])"
   ]
  },
  {
   "cell_type": "code",
   "execution_count": 17,
   "id": "ce4e8f5a",
   "metadata": {},
   "outputs": [
    {
     "name": "stdout",
     "output_type": "stream",
     "text": [
      "Extracting profiles for 1 angles\n"
     ]
    },
    {
     "data": {
      "application/vnd.jupyter.widget-view+json": {
       "model_id": "2c86581ca0654a52ae63b8fcfdbf7d3e",
       "version_major": 2,
       "version_minor": 0
      },
      "text/plain": [
       "  0%|          | 0/1 [00:00<?, ?it/s]"
      ]
     },
     "metadata": {},
     "output_type": "display_data"
    },
    {
     "name": "stderr",
     "output_type": "stream",
     "text": [
      "[error] GLFW error: Cocoa: Failed to find service port for display\n"
     ]
    },
    {
     "name": "stdout",
     "output_type": "stream",
     "text": [
      "done\n"
     ]
    }
   ],
   "source": [
    "slice_data = []\n",
    "# angles_degree = np.arange(0,360,10)\n",
    "angles_degree = [348.239766]\n",
    "print(f\"Extracting profiles for {len(angles_degree)} angles\")\n",
    "for theta in tqdm(np.deg2rad(angles_degree)):\n",
    "    cloud_copy = copy.deepcopy(point_cloud)\n",
    "    cloud_copy.rotate(\n",
    "        cloud_copy.get_rotation_matrix_from_xyz((0, 0, theta)), center=(xc, yc, zc)\n",
    "    )\n",
    "    slice = cloud_copy.select_by_index(\n",
    "        bb_slice.get_point_indices_within_bounding_box(cloud_copy.points)\n",
    "    )\n",
    "    pd.DataFrame(np.asarray(slice.points), columns=[\"x\", \"y\", \"z\"])\n",
    "    o3d.visualization.draw([cloud_copy, bb_slice])\n",
    "print(\"done\")"
   ]
  },
  {
   "cell_type": "code",
   "execution_count": 23,
   "id": "8b67937a",
   "metadata": {},
   "outputs": [
    {
     "data": {
      "image/png": "[encoded data removed]",
      "text/plain": [
       "<Figure size 1000x600 with 1 Axes>"
      ]
     },
     "metadata": {},
     "output_type": "display_data"
    }
   ],
   "source": [
    "s = slice_data[0]\n",
    "df = s.points_df.sort_values(by=[\"x\"])\n",
    "plt.rcParams[\"figure.figsize\"] = (10, 6)  # width, height\n",
    "f = plt.scatter(df[\"x\"], df[\"z\"], s=1)"
   ]
  },
  {
   "cell_type": "code",
   "execution_count": 24,
   "id": "49da5a05",
   "metadata": {},
   "outputs": [],
   "source": [
    "df.to_csv(\"out/PARA-F1_sliceB7.csv\", index=False)  # Removes the index column"
   ]
  }
 ],
 "metadata": {
  "kernelspec": {
   "display_name": "coral-profile",
   "language": "python",
   "name": "python3"
  },
  "language_info": {
   "codemirror_mode": {
    "name": "ipython",
    "version": 3
   },
   "file_extension": ".py",
   "mimetype": "text/x-python",
   "name": "python",
   "nbconvert_exporter": "python",
   "pygments_lexer": "ipython3",
   "version": "3.8.16"
  },
  "vscode": {
   "interpreter": {
    "hash": "3afd0e5f3051d740536acf9d915abf0e995223983f840381ec3593472e0c8c3c"
   }
  }
 },
 "nbformat": 4,
 "nbformat_minor": 5
}
